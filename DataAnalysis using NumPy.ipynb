{
 "cells": [
  {
   "cell_type": "markdown",
   "metadata": {},
   "source": [
    "# NumPy Essentials (Part:1 - Arrays)\n",
    "\n",
    "Hi Guys,<br>\n",
    "Welcome to the NumPy Essentials lecture part 1.<br>\n",
    "\n",
    "As a fundamental package for scientific computing, NumPy provides the foundations of mathematical, scientific, engineering and data science programming within the Python Echo-system. NumPy’s main object is the homogeneous multidimensional array.<br> \n",
    "\n",
    "**NumPY stands for? Ans: Numerical Python  \n",
    "Numpy developed by? Ans: Travis Oliphant**\n",
    "\n",
    "**I hope that you have already installed NumPy, let's move on a create a new notebook to explore more about NumPy.** <br>\n",
    "\n",
    "# Numpy Arrays\n",
    "### `arange()`,  `linspace()`, `zeros()`,  `ones()`, `eye()`, `rand()`, `randn()`, `randint()`\n",
    "### Methods: `reshape()`, `max()`, `min()`, `argmax()`, `argmin()`<br>\n",
    "### Attributes: `size, shape, dtype` \n",
    "### Indexing & slicing of 1-D arrays (vectors)\n",
    "###  Indexing & slicing 2-D arrays (matrices)"
   ]
  },
  {
   "cell_type": "code",
   "execution_count": 1,
   "metadata": {},
   "outputs": [],
   "source": [
    "# Let import NumPy\n",
    "import numpy as np"
   ]
  },
  {
   "cell_type": "markdown",
   "metadata": {},
   "source": [
    "NumPy has many built-in functions and capabilities. We will focus on some of the most important and key concepts of this powerful library.\n",
    "\n",
    "# Numpy Arrays\n",
    "\n",
    "NumPy arrays will be the main concept that we will be using in this course. These arrays essentially come in two flavors: <br>\n",
    "* **Vectors:** Vectors are strictly 1-dimensional array\n",
    "*  **Matrices:** Matrices are 2-dimensional (matrix can still have only one row or one column)."
   ]
  },
  {
   "cell_type": "markdown",
   "metadata": {},
   "source": [
    "## Creating NumPy Arrays"
   ]
  },
  {
   "cell_type": "markdown",
   "metadata": {},
   "source": [
    "### From Python data type (e.g. List, Tuple)"
   ]
  },
  {
   "cell_type": "code",
   "execution_count": 3,
   "metadata": {},
   "outputs": [
    {
     "data": {
      "text/plain": [
       "[-1, 0, 1]"
      ]
     },
     "execution_count": 3,
     "metadata": {},
     "output_type": "execute_result"
    }
   ],
   "source": [
    "# Lets create a Python list. \n",
    "my_list = [-1,0,1] \n",
    "\n",
    "my_list"
   ]
  },
  {
   "cell_type": "markdown",
   "metadata": {},
   "source": [
    "To create a NumPy array, from a Python data structure, we use NumPy's array function. <br>\n",
    "The NumPy's array function can be accessed by typing \"np.array\". <br>\n",
    "We need to cast our Python data structure, my_list, as a parameter to the array function.<br>"
   ]
  },
  {
   "cell_type": "code",
   "execution_count": 5,
   "metadata": {},
   "outputs": [
    {
     "data": {
      "text/plain": [
       "array([-1,  0,  1])"
      ]
     },
     "execution_count": 5,
     "metadata": {},
     "output_type": "execute_result"
    }
   ],
   "source": [
    "my_array = np.array(my_list)\n",
    "\n",
    "my_array"
   ]
  },
  {
   "cell_type": "code",
   "execution_count": null,
   "metadata": {},
   "outputs": [],
   "source": []
  },
  {
   "cell_type": "code",
   "execution_count": 7,
   "metadata": {},
   "outputs": [
    {
     "data": {
      "text/plain": [
       "[[1, 2, 3], [4, 5, 6]]"
      ]
     },
     "execution_count": 7,
     "metadata": {},
     "output_type": "execute_result"
    }
   ],
   "source": [
    "# Lets create and cast a list of list to generate 2-D array \n",
    "my_matrix = [[1,2,3],[4,5,6]]\n",
    "my_matrix"
   ]
  },
  {
   "cell_type": "code",
   "execution_count": 9,
   "metadata": {},
   "outputs": [
    {
     "data": {
      "text/plain": [
       "array([[1, 2, 3],\n",
       "       [4, 5, 6]])"
      ]
     },
     "execution_count": 9,
     "metadata": {},
     "output_type": "execute_result"
    }
   ],
   "source": [
    "matrix_one = np.array(my_matrix)\n",
    "matrix_one"
   ]
  },
  {
   "cell_type": "code",
   "execution_count": 11,
   "metadata": {},
   "outputs": [
    {
     "data": {
      "text/plain": [
       "(2, 3)"
      ]
     },
     "execution_count": 11,
     "metadata": {},
     "output_type": "execute_result"
    }
   ],
   "source": [
    "matrix_one.shape"
   ]
  },
  {
   "cell_type": "code",
   "execution_count": 13,
   "metadata": {},
   "outputs": [
    {
     "data": {
      "text/plain": [
       "(array([-1,  0,  1]), numpy.ndarray)"
      ]
     },
     "execution_count": 13,
     "metadata": {},
     "output_type": "execute_result"
    }
   ],
   "source": [
    "# We can use Tuple instead of list as well. \n",
    "my_tuple = (-1,0,1)\n",
    "my_array = np.array(my_tuple) \n",
    "my_array, type(my_array)"
   ]
  },
  {
   "cell_type": "markdown",
   "metadata": {},
   "source": [
    "### Array creation using NumPy's Built-in methods\n",
    "\n",
    "Most of the times, we use NumPy built-in methods to create arrays. These are much simpler and faster."
   ]
  },
  {
   "cell_type": "markdown",
   "metadata": {},
   "source": [
    "### `arange()`\n",
    "\n",
    "* arange() is very much similar to Python function range() <br>\n",
    "* Syntax: arange([start,] stop[, step,], dtype=None) <br>\n",
    "* Return evenly spaced values within a given interval. <br>\n",
    "\n",
    "*Press shift+tab for the documentation.*"
   ]
  },
  {
   "cell_type": "code",
   "execution_count": 15,
   "metadata": {},
   "outputs": [
    {
     "data": {
      "text/plain": [
       "array([ 0,  1,  2,  3,  4,  5,  6,  7,  8,  9, 10, 11, 12, 13, 14, 15, 16,\n",
       "       17, 18, 19, 20, 21, 22, 23, 24, 25, 26, 27, 28, 29, 30, 31, 32, 33,\n",
       "       34, 35, 36, 37, 38, 39, 40, 41, 42, 43, 44, 45, 46, 47, 48, 49, 50,\n",
       "       51, 52, 53, 54, 55, 56, 57, 58, 59, 60, 61, 62, 63, 64, 65, 66, 67,\n",
       "       68, 69, 70, 71, 72, 73, 74, 75, 76, 77, 78, 79, 80, 81, 82, 83, 84,\n",
       "       85, 86, 87, 88, 89, 90, 91, 92, 93, 94, 95, 96, 97, 98, 99])"
      ]
     },
     "execution_count": 15,
     "metadata": {},
     "output_type": "execute_result"
    }
   ],
   "source": [
    "num = np.arange(100) # similar to range() in Python, not including 100  \n",
    "num"
   ]
  },
  {
   "cell_type": "code",
   "execution_count": 17,
   "metadata": {},
   "outputs": [
    {
     "data": {
      "text/plain": [
       "array([3, 5, 7, 9])"
      ]
     },
     "execution_count": 17,
     "metadata": {},
     "output_type": "execute_result"
    }
   ],
   "source": [
    "# We can give the step\n",
    "np.arange(3,10,2)"
   ]
  },
  {
   "cell_type": "code",
   "execution_count": 19,
   "metadata": {},
   "outputs": [
    {
     "data": {
      "text/plain": [
       "array([0., 2., 4., 6., 8.])"
      ]
     },
     "execution_count": 19,
     "metadata": {},
     "output_type": "execute_result"
    }
   ],
   "source": [
    "# We can give the step and dtype\n",
    "np.arange(0,10,2, dtype=float)"
   ]
  },
  {
   "cell_type": "markdown",
   "metadata": {},
   "source": [
    "### `linspace()`\n",
    "Return evenly spaced numbers over a specified interval.<br>\n",
    "*Press shift+tab for the documentation.*"
   ]
  },
  {
   "cell_type": "code",
   "execution_count": 21,
   "metadata": {},
   "outputs": [
    {
     "data": {
      "text/plain": [
       "(array([  1.        ,   1.3987976 ,   1.79759519,   2.19639279,\n",
       "          2.59519038,   2.99398798,   3.39278557,   3.79158317,\n",
       "          4.19038076,   4.58917836,   4.98797595,   5.38677355,\n",
       "          5.78557114,   6.18436874,   6.58316633,   6.98196393,\n",
       "          7.38076152,   7.77955912,   8.17835671,   8.57715431,\n",
       "          8.9759519 ,   9.3747495 ,   9.77354709,  10.17234469,\n",
       "         10.57114228,  10.96993988,  11.36873747,  11.76753507,\n",
       "         12.16633267,  12.56513026,  12.96392786,  13.36272545,\n",
       "         13.76152305,  14.16032064,  14.55911824,  14.95791583,\n",
       "         15.35671343,  15.75551102,  16.15430862,  16.55310621,\n",
       "         16.95190381,  17.3507014 ,  17.749499  ,  18.14829659,\n",
       "         18.54709419,  18.94589178,  19.34468938,  19.74348697,\n",
       "         20.14228457,  20.54108216,  20.93987976,  21.33867735,\n",
       "         21.73747495,  22.13627255,  22.53507014,  22.93386774,\n",
       "         23.33266533,  23.73146293,  24.13026052,  24.52905812,\n",
       "         24.92785571,  25.32665331,  25.7254509 ,  26.1242485 ,\n",
       "         26.52304609,  26.92184369,  27.32064128,  27.71943888,\n",
       "         28.11823647,  28.51703407,  28.91583166,  29.31462926,\n",
       "         29.71342685,  30.11222445,  30.51102204,  30.90981964,\n",
       "         31.30861723,  31.70741483,  32.10621242,  32.50501002,\n",
       "         32.90380762,  33.30260521,  33.70140281,  34.1002004 ,\n",
       "         34.498998  ,  34.89779559,  35.29659319,  35.69539078,\n",
       "         36.09418838,  36.49298597,  36.89178357,  37.29058116,\n",
       "         37.68937876,  38.08817635,  38.48697395,  38.88577154,\n",
       "         39.28456914,  39.68336673,  40.08216433,  40.48096192,\n",
       "         40.87975952,  41.27855711,  41.67735471,  42.0761523 ,\n",
       "         42.4749499 ,  42.87374749,  43.27254509,  43.67134269,\n",
       "         44.07014028,  44.46893788,  44.86773547,  45.26653307,\n",
       "         45.66533066,  46.06412826,  46.46292585,  46.86172345,\n",
       "         47.26052104,  47.65931864,  48.05811623,  48.45691383,\n",
       "         48.85571142,  49.25450902,  49.65330661,  50.05210421,\n",
       "         50.4509018 ,  50.8496994 ,  51.24849699,  51.64729459,\n",
       "         52.04609218,  52.44488978,  52.84368737,  53.24248497,\n",
       "         53.64128257,  54.04008016,  54.43887776,  54.83767535,\n",
       "         55.23647295,  55.63527054,  56.03406814,  56.43286573,\n",
       "         56.83166333,  57.23046092,  57.62925852,  58.02805611,\n",
       "         58.42685371,  58.8256513 ,  59.2244489 ,  59.62324649,\n",
       "         60.02204409,  60.42084168,  60.81963928,  61.21843687,\n",
       "         61.61723447,  62.01603206,  62.41482966,  62.81362725,\n",
       "         63.21242485,  63.61122244,  64.01002004,  64.40881764,\n",
       "         64.80761523,  65.20641283,  65.60521042,  66.00400802,\n",
       "         66.40280561,  66.80160321,  67.2004008 ,  67.5991984 ,\n",
       "         67.99799599,  68.39679359,  68.79559118,  69.19438878,\n",
       "         69.59318637,  69.99198397,  70.39078156,  70.78957916,\n",
       "         71.18837675,  71.58717435,  71.98597194,  72.38476954,\n",
       "         72.78356713,  73.18236473,  73.58116232,  73.97995992,\n",
       "         74.37875752,  74.77755511,  75.17635271,  75.5751503 ,\n",
       "         75.9739479 ,  76.37274549,  76.77154309,  77.17034068,\n",
       "         77.56913828,  77.96793587,  78.36673347,  78.76553106,\n",
       "         79.16432866,  79.56312625,  79.96192385,  80.36072144,\n",
       "         80.75951904,  81.15831663,  81.55711423,  81.95591182,\n",
       "         82.35470942,  82.75350701,  83.15230461,  83.5511022 ,\n",
       "         83.9498998 ,  84.34869739,  84.74749499,  85.14629259,\n",
       "         85.54509018,  85.94388778,  86.34268537,  86.74148297,\n",
       "         87.14028056,  87.53907816,  87.93787575,  88.33667335,\n",
       "         88.73547094,  89.13426854,  89.53306613,  89.93186373,\n",
       "         90.33066132,  90.72945892,  91.12825651,  91.52705411,\n",
       "         91.9258517 ,  92.3246493 ,  92.72344689,  93.12224449,\n",
       "         93.52104208,  93.91983968,  94.31863727,  94.71743487,\n",
       "         95.11623246,  95.51503006,  95.91382766,  96.31262525,\n",
       "         96.71142285,  97.11022044,  97.50901804,  97.90781563,\n",
       "         98.30661323,  98.70541082,  99.10420842,  99.50300601,\n",
       "         99.90180361, 100.3006012 , 100.6993988 , 101.09819639,\n",
       "        101.49699399, 101.89579158, 102.29458918, 102.69338677,\n",
       "        103.09218437, 103.49098196, 103.88977956, 104.28857715,\n",
       "        104.68737475, 105.08617234, 105.48496994, 105.88376754,\n",
       "        106.28256513, 106.68136273, 107.08016032, 107.47895792,\n",
       "        107.87775551, 108.27655311, 108.6753507 , 109.0741483 ,\n",
       "        109.47294589, 109.87174349, 110.27054108, 110.66933868,\n",
       "        111.06813627, 111.46693387, 111.86573146, 112.26452906,\n",
       "        112.66332665, 113.06212425, 113.46092184, 113.85971944,\n",
       "        114.25851703, 114.65731463, 115.05611222, 115.45490982,\n",
       "        115.85370741, 116.25250501, 116.65130261, 117.0501002 ,\n",
       "        117.4488978 , 117.84769539, 118.24649299, 118.64529058,\n",
       "        119.04408818, 119.44288577, 119.84168337, 120.24048096,\n",
       "        120.63927856, 121.03807615, 121.43687375, 121.83567134,\n",
       "        122.23446894, 122.63326653, 123.03206413, 123.43086172,\n",
       "        123.82965932, 124.22845691, 124.62725451, 125.0260521 ,\n",
       "        125.4248497 , 125.82364729, 126.22244489, 126.62124248,\n",
       "        127.02004008, 127.41883768, 127.81763527, 128.21643287,\n",
       "        128.61523046, 129.01402806, 129.41282565, 129.81162325,\n",
       "        130.21042084, 130.60921844, 131.00801603, 131.40681363,\n",
       "        131.80561122, 132.20440882, 132.60320641, 133.00200401,\n",
       "        133.4008016 , 133.7995992 , 134.19839679, 134.59719439,\n",
       "        134.99599198, 135.39478958, 135.79358717, 136.19238477,\n",
       "        136.59118236, 136.98997996, 137.38877756, 137.78757515,\n",
       "        138.18637275, 138.58517034, 138.98396794, 139.38276553,\n",
       "        139.78156313, 140.18036072, 140.57915832, 140.97795591,\n",
       "        141.37675351, 141.7755511 , 142.1743487 , 142.57314629,\n",
       "        142.97194389, 143.37074148, 143.76953908, 144.16833667,\n",
       "        144.56713427, 144.96593186, 145.36472946, 145.76352705,\n",
       "        146.16232465, 146.56112224, 146.95991984, 147.35871743,\n",
       "        147.75751503, 148.15631263, 148.55511022, 148.95390782,\n",
       "        149.35270541, 149.75150301, 150.1503006 , 150.5490982 ,\n",
       "        150.94789579, 151.34669339, 151.74549098, 152.14428858,\n",
       "        152.54308617, 152.94188377, 153.34068136, 153.73947896,\n",
       "        154.13827655, 154.53707415, 154.93587174, 155.33466934,\n",
       "        155.73346693, 156.13226453, 156.53106212, 156.92985972,\n",
       "        157.32865731, 157.72745491, 158.12625251, 158.5250501 ,\n",
       "        158.9238477 , 159.32264529, 159.72144289, 160.12024048,\n",
       "        160.51903808, 160.91783567, 161.31663327, 161.71543086,\n",
       "        162.11422846, 162.51302605, 162.91182365, 163.31062124,\n",
       "        163.70941884, 164.10821643, 164.50701403, 164.90581162,\n",
       "        165.30460922, 165.70340681, 166.10220441, 166.501002  ,\n",
       "        166.8997996 , 167.29859719, 167.69739479, 168.09619238,\n",
       "        168.49498998, 168.89378758, 169.29258517, 169.69138277,\n",
       "        170.09018036, 170.48897796, 170.88777555, 171.28657315,\n",
       "        171.68537074, 172.08416834, 172.48296593, 172.88176353,\n",
       "        173.28056112, 173.67935872, 174.07815631, 174.47695391,\n",
       "        174.8757515 , 175.2745491 , 175.67334669, 176.07214429,\n",
       "        176.47094188, 176.86973948, 177.26853707, 177.66733467,\n",
       "        178.06613226, 178.46492986, 178.86372745, 179.26252505,\n",
       "        179.66132265, 180.06012024, 180.45891784, 180.85771543,\n",
       "        181.25651303, 181.65531062, 182.05410822, 182.45290581,\n",
       "        182.85170341, 183.250501  , 183.6492986 , 184.04809619,\n",
       "        184.44689379, 184.84569138, 185.24448898, 185.64328657,\n",
       "        186.04208417, 186.44088176, 186.83967936, 187.23847695,\n",
       "        187.63727455, 188.03607214, 188.43486974, 188.83366733,\n",
       "        189.23246493, 189.63126253, 190.03006012, 190.42885772,\n",
       "        190.82765531, 191.22645291, 191.6252505 , 192.0240481 ,\n",
       "        192.42284569, 192.82164329, 193.22044088, 193.61923848,\n",
       "        194.01803607, 194.41683367, 194.81563126, 195.21442886,\n",
       "        195.61322645, 196.01202405, 196.41082164, 196.80961924,\n",
       "        197.20841683, 197.60721443, 198.00601202, 198.40480962,\n",
       "        198.80360721, 199.20240481, 199.6012024 , 200.        ]),\n",
       " 0.39879759519038077)"
      ]
     },
     "execution_count": 21,
     "metadata": {},
     "output_type": "execute_result"
    }
   ],
   "source": [
    "# start from 1 & end at 15 with 15 evenly spaced points b/w 1 to 15.\n",
    "np.linspace(1, 200, 500, retstep=True)"
   ]
  },
  {
   "cell_type": "code",
   "execution_count": 23,
   "metadata": {},
   "outputs": [
    {
     "data": {
      "text/plain": [
       "(array([ 9.        ,  9.31578947,  9.63157895,  9.94736842, 10.26315789,\n",
       "        10.57894737, 10.89473684, 11.21052632, 11.52631579, 11.84210526,\n",
       "        12.15789474, 12.47368421, 12.78947368, 13.10526316, 13.42105263,\n",
       "        13.73684211, 14.05263158, 14.36842105, 14.68421053, 15.        ]),\n",
       " 0.3157894736842105)"
      ]
     },
     "execution_count": 23,
     "metadata": {},
     "output_type": "execute_result"
    }
   ],
   "source": [
    "my_linspace = np.linspace(9, 15, 20, retstep=True)\n",
    "my_linspace"
   ]
  },
  {
   "cell_type": "code",
   "execution_count": 31,
   "metadata": {},
   "outputs": [
    {
     "data": {
      "text/plain": [
       "array([1.        , 1.03448276, 1.06896552, 1.10344828, 1.13793103,\n",
       "       1.17241379, 1.20689655, 1.24137931, 1.27586207, 1.31034483,\n",
       "       1.34482759, 1.37931034, 1.4137931 , 1.44827586, 1.48275862,\n",
       "       1.51724138, 1.55172414, 1.5862069 , 1.62068966, 1.65517241,\n",
       "       1.68965517, 1.72413793, 1.75862069, 1.79310345, 1.82758621,\n",
       "       1.86206897, 1.89655172, 1.93103448, 1.96551724, 2.        ])"
      ]
     },
     "execution_count": 31,
     "metadata": {},
     "output_type": "execute_result"
    }
   ],
   "source": [
    "np.linspace(1,2,30) # 1-D array "
   ]
  },
  {
   "cell_type": "markdown",
   "metadata": {},
   "source": [
    "## Don't Confuse!\n",
    "  * <b>arange() takes 3rd argument as step size.<b><br>\n",
    "  * <b>linspace() take 3rd argument as no of point we want.<b>"
   ]
  },
  {
   "cell_type": "code",
   "execution_count": 33,
   "metadata": {},
   "outputs": [
    {
     "data": {
      "text/plain": [
       "array([ 0,  1,  2,  3,  4,  5,  6,  7,  8,  9, 10, 11, 12, 13, 14, 15])"
      ]
     },
     "execution_count": 33,
     "metadata": {},
     "output_type": "execute_result"
    }
   ],
   "source": [
    "x = np.arange(0, 16)\n",
    "x"
   ]
  },
  {
   "cell_type": "code",
   "execution_count": 35,
   "metadata": {},
   "outputs": [
    {
     "data": {
      "text/plain": [
       "(16,)"
      ]
     },
     "execution_count": 35,
     "metadata": {},
     "output_type": "execute_result"
    }
   ],
   "source": [
    "x.shape"
   ]
  },
  {
   "cell_type": "code",
   "execution_count": 37,
   "metadata": {},
   "outputs": [
    {
     "data": {
      "text/plain": [
       "array([[ 0,  1,  2,  3],\n",
       "       [ 4,  5,  6,  7],\n",
       "       [ 8,  9, 10, 11],\n",
       "       [12, 13, 14, 15]])"
      ]
     },
     "execution_count": 37,
     "metadata": {},
     "output_type": "execute_result"
    }
   ],
   "source": [
    "x.reshape(4,4)"
   ]
  },
  {
   "cell_type": "code",
   "execution_count": 39,
   "metadata": {},
   "outputs": [
    {
     "data": {
      "text/plain": [
       "array([ 0,  1,  2,  3,  4,  5,  6,  7,  8,  9, 10, 11, 12, 13, 14, 15])"
      ]
     },
     "execution_count": 39,
     "metadata": {},
     "output_type": "execute_result"
    }
   ],
   "source": [
    "x"
   ]
  },
  {
   "cell_type": "code",
   "execution_count": 41,
   "metadata": {},
   "outputs": [
    {
     "data": {
      "text/plain": [
       "array([[[ 0,  1],\n",
       "        [ 2,  3]],\n",
       "\n",
       "       [[ 4,  5],\n",
       "        [ 6,  7]],\n",
       "\n",
       "       [[ 8,  9],\n",
       "        [10, 11]],\n",
       "\n",
       "       [[12, 13],\n",
       "        [14, 15]]])"
      ]
     },
     "execution_count": 41,
     "metadata": {},
     "output_type": "execute_result"
    }
   ],
   "source": [
    "y = x.reshape(4, 2, 2)\n",
    "y"
   ]
  },
  {
   "cell_type": "code",
   "execution_count": 43,
   "metadata": {},
   "outputs": [
    {
     "data": {
      "text/plain": [
       "(4, 2, 2)"
      ]
     },
     "execution_count": 43,
     "metadata": {},
     "output_type": "execute_result"
    }
   ],
   "source": [
    "y.shape"
   ]
  },
  {
   "cell_type": "code",
   "execution_count": 45,
   "metadata": {},
   "outputs": [],
   "source": [
    "x = y.reshape(16,)"
   ]
  },
  {
   "cell_type": "code",
   "execution_count": 47,
   "metadata": {},
   "outputs": [
    {
     "data": {
      "text/plain": [
       "array([ 0,  1,  2,  3,  4,  5,  6,  7,  8,  9, 10, 11, 12, 13, 14, 15])"
      ]
     },
     "execution_count": 47,
     "metadata": {},
     "output_type": "execute_result"
    }
   ],
   "source": [
    "x"
   ]
  },
  {
   "cell_type": "code",
   "execution_count": 49,
   "metadata": {},
   "outputs": [
    {
     "data": {
      "text/plain": [
       "(16,)"
      ]
     },
     "execution_count": 49,
     "metadata": {},
     "output_type": "execute_result"
    }
   ],
   "source": [
    "x.shape"
   ]
  },
  {
   "cell_type": "markdown",
   "metadata": {},
   "source": [
    "## Random \n",
    "\n",
    "We can also create arrays with random numbers using Numpy's built-in functions in Random module.<br>\n",
    "*np.random. and then press tab for the options with random*"
   ]
  },
  {
   "cell_type": "markdown",
   "metadata": {},
   "source": [
    "### `rand()`\n",
    "Create an array of the given shape and populate it with\n",
    "random samples from a uniform distribution\n",
    "over ``[0, 1)``."
   ]
  },
  {
   "cell_type": "code",
   "execution_count": null,
   "metadata": {},
   "outputs": [],
   "source": [
    "np.random.rand(4) # 1-D array with three elements"
   ]
  },
  {
   "cell_type": "code",
   "execution_count": null,
   "metadata": {},
   "outputs": [],
   "source": [
    "np.random.rand(6,4)  # row, col, note we are not passing a tuple here, each dimension as a separate argument"
   ]
  },
  {
   "cell_type": "markdown",
   "metadata": {},
   "source": [
    "### `randn()`\n",
    "\n",
    "Return a sample (or samples) from the \"standard normal\" or a \"Gaussian\" distribution. Unlike rand which is uniform.<br>\n",
    "*Press shift+tab for the documentation.*"
   ]
  },
  {
   "cell_type": "code",
   "execution_count": null,
   "metadata": {},
   "outputs": [],
   "source": [
    "np.random.randn(20, 5)"
   ]
  },
  {
   "cell_type": "code",
   "execution_count": null,
   "metadata": {},
   "outputs": [],
   "source": [
    "normal_array = np.random.randn(1000,1) # no tuple, each dimension as a separate argument\n",
    "normal_array"
   ]
  },
  {
   "cell_type": "code",
   "execution_count": null,
   "metadata": {},
   "outputs": [],
   "source": [
    "import pandas as pd\n",
    "\n",
    "df = pd.DataFrame(data=normal_array, columns=['A'])\n",
    "df"
   ]
  },
  {
   "cell_type": "code",
   "execution_count": null,
   "metadata": {},
   "outputs": [],
   "source": [
    "df['A'].hist(bins=30)"
   ]
  },
  {
   "cell_type": "markdown",
   "metadata": {},
   "source": [
    "### `randint()`\n",
    "Return random integers from `low` (inclusive) to `high` (exclusive)."
   ]
  },
  {
   "cell_type": "code",
   "execution_count": null,
   "metadata": {},
   "outputs": [],
   "source": [
    "np.random.randint(190, 200, 20) #returns one random int, 1 inclusive, 100 exclusive"
   ]
  },
  {
   "cell_type": "code",
   "execution_count": null,
   "metadata": {},
   "outputs": [],
   "source": [
    "np.random.randint(100,200,20).reshape(4,5) #returns ten random int,"
   ]
  },
  {
   "cell_type": "code",
   "execution_count": null,
   "metadata": {},
   "outputs": [],
   "source": [
    "arr0 = np.random.randint(low=1000, high=2000, size=[5,8])\n",
    "arr0"
   ]
  },
  {
   "cell_type": "markdown",
   "metadata": {},
   "source": [
    "## Array Methods & Attributes\n",
    "Some important Methods and Attributes are important to know:<br>\n",
    "\n",
    "### Methods:\n",
    "* reshape(), max(), min(), argmax(), argmin()<br>"
   ]
  },
  {
   "cell_type": "code",
   "execution_count": null,
   "metadata": {},
   "outputs": [],
   "source": [
    "# lets create 2 arrays using arange() and randint()\n",
    "array_ranint = np.random.randint(0,100,10)"
   ]
  },
  {
   "cell_type": "code",
   "execution_count": null,
   "metadata": {},
   "outputs": [],
   "source": [
    "array_ranint"
   ]
  },
  {
   "cell_type": "markdown",
   "metadata": {},
   "source": [
    "#### `max()` & `min()`\n",
    "Useful methods for finding max or min values."
   ]
  },
  {
   "cell_type": "code",
   "execution_count": null,
   "metadata": {},
   "outputs": [],
   "source": [
    "array_ranint"
   ]
  },
  {
   "cell_type": "code",
   "execution_count": null,
   "metadata": {},
   "outputs": [],
   "source": [
    "array_ranint.min()"
   ]
  },
  {
   "cell_type": "code",
   "execution_count": null,
   "metadata": {},
   "outputs": [],
   "source": [
    "array_ranint.max()"
   ]
  },
  {
   "cell_type": "markdown",
   "metadata": {},
   "source": [
    "#### `argmax()` & `argmin()`\n",
    "To find the index locations of max and min values in array"
   ]
  },
  {
   "cell_type": "code",
   "execution_count": null,
   "metadata": {},
   "outputs": [],
   "source": [
    "array_ranint.argmax() # index starts from 0"
   ]
  },
  {
   "cell_type": "code",
   "execution_count": null,
   "metadata": {},
   "outputs": [],
   "source": [
    "array_ranint.argmin()"
   ]
  },
  {
   "cell_type": "markdown",
   "metadata": {},
   "source": [
    "### Attributes\n",
    "* `size, shape, dtype` "
   ]
  },
  {
   "cell_type": "code",
   "execution_count": null,
   "metadata": {},
   "outputs": [],
   "source": [
    "array_arange=np.arange(16)"
   ]
  },
  {
   "cell_type": "code",
   "execution_count": null,
   "metadata": {},
   "outputs": [],
   "source": [
    "array_arange"
   ]
  },
  {
   "cell_type": "code",
   "execution_count": null,
   "metadata": {},
   "outputs": [],
   "source": [
    "array_arange.shape"
   ]
  },
  {
   "cell_type": "code",
   "execution_count": null,
   "metadata": {},
   "outputs": [],
   "source": [
    "array_arange.size"
   ]
  },
  {
   "cell_type": "code",
   "execution_count": null,
   "metadata": {},
   "outputs": [],
   "source": [
    "# Size of the array \n",
    "array_arange.itemsize"
   ]
  },
  {
   "cell_type": "code",
   "execution_count": null,
   "metadata": {},
   "outputs": [],
   "source": [
    "# Type of the data.\n",
    "array_arange.dtype"
   ]
  },
  {
   "cell_type": "code",
   "execution_count": null,
   "metadata": {},
   "outputs": [],
   "source": [
    "array_arange.reshape(4,4)"
   ]
  },
  {
   "cell_type": "code",
   "execution_count": null,
   "metadata": {},
   "outputs": [],
   "source": [
    "array_arange"
   ]
  },
  {
   "cell_type": "code",
   "execution_count": null,
   "metadata": {},
   "outputs": [],
   "source": [
    "array_arange.shape = (4,4)"
   ]
  },
  {
   "cell_type": "code",
   "execution_count": null,
   "metadata": {},
   "outputs": [],
   "source": [
    "array_arange"
   ]
  },
  {
   "cell_type": "code",
   "execution_count": null,
   "metadata": {},
   "outputs": [],
   "source": [
    "array_arange.reshape(1,16)"
   ]
  },
  {
   "cell_type": "code",
   "execution_count": null,
   "metadata": {},
   "outputs": [],
   "source": [
    "array_arange"
   ]
  },
  {
   "cell_type": "code",
   "execution_count": null,
   "metadata": {},
   "outputs": [],
   "source": [
    "array_arange.reshape(1,16).shape"
   ]
  },
  {
   "cell_type": "markdown",
   "metadata": {},
   "source": [
    "### Indexing & slicing of 1-D arrays (vectors)"
   ]
  },
  {
   "cell_type": "code",
   "execution_count": null,
   "metadata": {},
   "outputs": [],
   "source": [
    "array_1d = np.array([-10, -2, 0, 2, 17, 106,200])"
   ]
  },
  {
   "cell_type": "code",
   "execution_count": null,
   "metadata": {},
   "outputs": [],
   "source": [
    "array_1d"
   ]
  },
  {
   "cell_type": "code",
   "execution_count": null,
   "metadata": {},
   "outputs": [],
   "source": [
    "array_1d[2]"
   ]
  },
  {
   "cell_type": "code",
   "execution_count": null,
   "metadata": {},
   "outputs": [],
   "source": [
    "# Getting a range value\n",
    "array_1d[0:3]"
   ]
  },
  {
   "cell_type": "code",
   "execution_count": null,
   "metadata": {},
   "outputs": [],
   "source": [
    "# Using -ve index \n",
    "array_1d[-2]"
   ]
  },
  {
   "cell_type": "code",
   "execution_count": null,
   "metadata": {},
   "outputs": [],
   "source": [
    "# Using -ve index for a range \n",
    "array_1d[1:-2]"
   ]
  },
  {
   "cell_type": "code",
   "execution_count": null,
   "metadata": {},
   "outputs": [],
   "source": [
    "array_1d"
   ]
  },
  {
   "cell_type": "code",
   "execution_count": null,
   "metadata": {},
   "outputs": [],
   "source": [
    "array_1d[:2]"
   ]
  },
  {
   "cell_type": "code",
   "execution_count": null,
   "metadata": {},
   "outputs": [],
   "source": [
    "array_1d[2:]"
   ]
  },
  {
   "cell_type": "code",
   "execution_count": null,
   "metadata": {},
   "outputs": [],
   "source": [
    "# Assigning a new value to a certain index in the array \n",
    "array_1d[0] = -102"
   ]
  },
  {
   "cell_type": "code",
   "execution_count": null,
   "metadata": {},
   "outputs": [],
   "source": [
    "array_1d\n",
    "# The first element is changed to -102"
   ]
  },
  {
   "cell_type": "markdown",
   "metadata": {},
   "source": [
    "###  Indexing & slicing 2-D arrays (matrices)\n",
    "\n",
    "Lets create an array with 24 elements using arange() and convert it to 2D matrix using \"shape\".<br>\n",
    "*note, 6 x 4 = 24*"
   ]
  },
  {
   "cell_type": "code",
   "execution_count": null,
   "metadata": {},
   "outputs": [],
   "source": [
    "array_2d = np.arange(24)\n",
    "array_2d = array_2d.reshape(6,4)\n",
    "array_2d"
   ]
  },
  {
   "cell_type": "markdown",
   "metadata": {},
   "source": [
    "To access any element, the general format is: <br>\n",
    "* **`array_2d[row][col]`** <br>or<br> \n",
    "* **`array_2d[row,col]`**. \n",
    "\n",
    "We will use `[row,col]`, easier to use comma ',' for clarity."
   ]
  },
  {
   "cell_type": "code",
   "execution_count": null,
   "metadata": {},
   "outputs": [],
   "source": [
    "# To get a complete row\n",
    "array_2d[2]"
   ]
  },
  {
   "cell_type": "code",
   "execution_count": null,
   "metadata": {},
   "outputs": [],
   "source": [
    "array_2d[-4] # -0 and 0 is same inedex"
   ]
  },
  {
   "cell_type": "code",
   "execution_count": null,
   "metadata": {},
   "outputs": [],
   "source": [
    "array_2d"
   ]
  },
  {
   "cell_type": "code",
   "execution_count": null,
   "metadata": {},
   "outputs": [],
   "source": [
    "# another way \n",
    "row = 5\n",
    "column = 2\n",
    "array_2d[row, column]"
   ]
  },
  {
   "cell_type": "code",
   "execution_count": null,
   "metadata": {},
   "outputs": [],
   "source": [
    "# Just to make sure, using [row][col] :)\n",
    "array_2d[5][2]"
   ]
  },
  {
   "cell_type": "code",
   "execution_count": null,
   "metadata": {},
   "outputs": [],
   "source": [
    "array_2d"
   ]
  },
  {
   "cell_type": "code",
   "execution_count": null,
   "metadata": {},
   "outputs": [],
   "source": [
    "# 2D array slicing\n",
    "array_2d[:2,:2] "
   ]
  },
  {
   "cell_type": "markdown",
   "metadata": {},
   "source": [
    "### Broadcasting\n",
    "\n",
    "Numpy arrays are different from normal Python lists because of their ability to broadcast. We will only cover the basics, for further details on broadcasting rules, click [here](https://docs.scipy.org/doc/numpy/user/basics.broadcasting.html) <br>\n",
    "Another good read on [broadcasting](https://jakevdp.github.io/PythonDataScienceHandbook/02.05-computation-on-arrays-broadcasting.html)!<br>\n",
    "\n",
    "**Lets start with some simple examples:**"
   ]
  },
  {
   "cell_type": "code",
   "execution_count": null,
   "metadata": {},
   "outputs": [],
   "source": [
    "# Lets create an array using arange()\n",
    "array_1d = np.arange(0,10)\n",
    "array_1d"
   ]
  },
  {
   "cell_type": "markdown",
   "metadata": {},
   "source": [
    "Take a slice of the array and set it equal to some number, say 500.<br>\n",
    "\n",
    "        array_1d[0:5] = 500 \n",
    "this will **broadcast the value of 500 to the first 5 elements** of the array_1d"
   ]
  },
  {
   "cell_type": "code",
   "execution_count": null,
   "metadata": {},
   "outputs": [],
   "source": [
    "array_1d[0:5] = 500 \n",
    "array_1d"
   ]
  },
  {
   "cell_type": "code",
   "execution_count": null,
   "metadata": {},
   "outputs": [],
   "source": [
    "# Lets create a 2D martix with ones\n",
    "array_2d = np.ones((4,4), dtype=int)\n",
    "array_2d"
   ]
  },
  {
   "cell_type": "code",
   "execution_count": null,
   "metadata": {},
   "outputs": [],
   "source": [
    "# Lets broadcast 300 to the first row of array_2d\n",
    "array_2d[0] = 300\n",
    "array_2d"
   ]
  },
  {
   "cell_type": "code",
   "execution_count": null,
   "metadata": {},
   "outputs": [],
   "source": [
    "# Lets create a simple 1-D array and broadcast to array_2d\n",
    "array_2d + np.arange(0,4)  #[0,1,2,3]\n",
    "# try array_2d + np.arange(0,3), did this work? if not why?"
   ]
  },
  {
   "cell_type": "code",
   "execution_count": null,
   "metadata": {},
   "outputs": [],
   "source": [
    "array_2d"
   ]
  },
  {
   "cell_type": "code",
   "execution_count": null,
   "metadata": {},
   "outputs": [],
   "source": [
    "array_2d * np.arange(0,4)"
   ]
  },
  {
   "cell_type": "code",
   "execution_count": null,
   "metadata": {},
   "outputs": [],
   "source": [
    "array_2d + 300\n",
    "# array_2d + [300,2], did it work? if not why?"
   ]
  },
  {
   "cell_type": "code",
   "execution_count": null,
   "metadata": {},
   "outputs": [],
   "source": [
    "array_2d"
   ]
  },
  {
   "cell_type": "code",
   "execution_count": null,
   "metadata": {},
   "outputs": [],
   "source": [
    "array_2d[[3, 1]]"
   ]
  },
  {
   "cell_type": "code",
   "execution_count": null,
   "metadata": {},
   "outputs": [],
   "source": [
    "array_2d[:,[2]]"
   ]
  },
  {
   "cell_type": "code",
   "execution_count": null,
   "metadata": {},
   "outputs": [],
   "source": [
    "array_2d"
   ]
  },
  {
   "cell_type": "code",
   "execution_count": null,
   "metadata": {},
   "outputs": [],
   "source": [
    "# We can use any order\n",
    "array_2d[[3, 1]]"
   ]
  },
  {
   "cell_type": "code",
   "execution_count": null,
   "metadata": {},
   "outputs": [],
   "source": [
    "# lets try another matrix\n",
    "array_2d = np.arange(24)\n",
    "array_2d.shape = (6,4)\n",
    "array_2d"
   ]
  },
  {
   "cell_type": "code",
   "execution_count": null,
   "metadata": {},
   "outputs": [],
   "source": [
    "# grabbing rows\n",
    "array_2d[[2,3]] #[2][3]"
   ]
  },
  {
   "cell_type": "code",
   "execution_count": null,
   "metadata": {},
   "outputs": [],
   "source": [
    "array_2d[:3, [2,3]]"
   ]
  },
  {
   "cell_type": "code",
   "execution_count": null,
   "metadata": {},
   "outputs": [],
   "source": [
    "# grabbing columns\n",
    "#array_2d[:,3:2]\n",
    "array_2d[:,[3,2]]"
   ]
  },
  {
   "cell_type": "code",
   "execution_count": null,
   "metadata": {},
   "outputs": [],
   "source": [
    "# Lets create a simple array using arange()\n",
    "array_1d = np.arange(1,11)\n",
    "array_1d"
   ]
  },
  {
   "cell_type": "markdown",
   "metadata": {},
   "source": [
    "We can apply condition such as >, <, == etc"
   ]
  },
  {
   "cell_type": "code",
   "execution_count": null,
   "metadata": {},
   "outputs": [],
   "source": [
    "array_1d > 3"
   ]
  },
  {
   "cell_type": "code",
   "execution_count": null,
   "metadata": {},
   "outputs": [],
   "source": [
    "# lets create a bool_array for some condition, say array_1d > 3\n",
    "bool_array = array_1d > 3\n",
    "bool_array"
   ]
  },
  {
   "cell_type": "markdown",
   "metadata": {},
   "source": [
    "Lets create a mask to **filter out the even numbers in \"array_1d\"**"
   ]
  },
  {
   "cell_type": "code",
   "execution_count": null,
   "metadata": {},
   "outputs": [],
   "source": [
    "array_1d % 2"
   ]
  },
  {
   "cell_type": "code",
   "execution_count": null,
   "metadata": {},
   "outputs": [],
   "source": [
    "0 == array_1d % 2"
   ]
  },
  {
   "cell_type": "code",
   "execution_count": null,
   "metadata": {},
   "outputs": [],
   "source": [
    "# A number is even if, number % 2 is \"0\"\n",
    "mod_2_mask_1d = array_1d % 2 != 0 \n",
    "mod_2_mask_1d"
   ]
  },
  {
   "cell_type": "code",
   "execution_count": null,
   "metadata": {},
   "outputs": [],
   "source": [
    "array_1d"
   ]
  },
  {
   "cell_type": "code",
   "execution_count": null,
   "metadata": {},
   "outputs": [],
   "source": [
    "array_1d[mod_2_mask_1d] #array_1d[[False,  True, False,  True, False,  True, False,  True, False,True]]"
   ]
  },
  {
   "cell_type": "markdown",
   "metadata": {},
   "source": [
    "## NumPy Operations \n",
    "\n",
    "Hi Guys,<br>\n",
    "Welcome to the NumPy Essentials lecture part 2.<br>\n",
    "\n",
    "Let's talk about NumPy operations in this section, such as:\n",
    "\n",
    "* <b>Arithmetic operations</b>\n",
    "* <b>Universal Functions (ufunc)</b>\n",
    " "
   ]
  },
  {
   "cell_type": "markdown",
   "metadata": {},
   "source": [
    "## Arithmetic operations\n",
    "\n",
    "We can perform arithmetic operations with NumPy arrays. <br>\n",
    "Let's learn with examples:"
   ]
  },
  {
   "cell_type": "code",
   "execution_count": null,
   "metadata": {},
   "outputs": [],
   "source": [
    "# Let's create an array using arange() method\n",
    "arr = np.arange(0,5)\n",
    "arr  "
   ]
  },
  {
   "cell_type": "code",
   "execution_count": null,
   "metadata": {},
   "outputs": [],
   "source": [
    "# Adding two arrays\n",
    "arr + arr  #[0, 1, 2, 3, 4] + [0, 1, 2, 3, 4]"
   ]
  },
  {
   "cell_type": "code",
   "execution_count": null,
   "metadata": {},
   "outputs": [],
   "source": [
    "# Subtracting two arrays\n",
    "arr - arr"
   ]
  },
  {
   "cell_type": "code",
   "execution_count": null,
   "metadata": {},
   "outputs": [],
   "source": [
    "# Multiplication\n",
    "arr * arr"
   ]
  },
  {
   "cell_type": "code",
   "execution_count": null,
   "metadata": {},
   "outputs": [],
   "source": [
    "# Division\n",
    "arr / arr\n",
    "# warning and 0/0 is replaced with nan"
   ]
  },
  {
   "cell_type": "code",
   "execution_count": null,
   "metadata": {},
   "outputs": [],
   "source": [
    "1/arr #[0, 1, 2, 3, 4]\n",
    "# warning for 1/0, inf"
   ]
  },
  {
   "cell_type": "code",
   "execution_count": null,
   "metadata": {},
   "outputs": [],
   "source": [
    "# Power of all the elements in an array\n",
    "arr ** 2"
   ]
  },
  {
   "cell_type": "code",
   "execution_count": null,
   "metadata": {},
   "outputs": [],
   "source": [
    "# Multiplication with scalar \n",
    "2 * arr #[0, 1, 2, 3, 4]"
   ]
  },
  {
   "cell_type": "markdown",
   "metadata": {},
   "source": [
    "## Universal functions\n",
    "\n",
    "NumPy have a range of built-in [universal functions](http://docs.scipy.org/doc/numpy/reference/ufuncs.html) (ufunc). These are essentially just mathematical operations and we can use them to perform specific task, associate with the function, across the NumPy array.<br>\n",
    "Let's learn with examples:"
   ]
  },
  {
   "cell_type": "code",
   "execution_count": null,
   "metadata": {},
   "outputs": [],
   "source": [
    "# Square root\n",
    "np.sqrt(arr) #[0, 1, 2, 3, 4]"
   ]
  },
  {
   "cell_type": "code",
   "execution_count": null,
   "metadata": {},
   "outputs": [],
   "source": [
    "# max and min values\n",
    "np.max(arr), np.min(arr)"
   ]
  },
  {
   "cell_type": "code",
   "execution_count": null,
   "metadata": {},
   "outputs": [],
   "source": [
    "arr.max()"
   ]
  },
  {
   "cell_type": "code",
   "execution_count": null,
   "metadata": {},
   "outputs": [],
   "source": [
    "# Trigonometric functions, e.g. sin, cos, tan, arcsin, ......\n",
    "np.sin(arr)"
   ]
  },
  {
   "cell_type": "markdown",
   "metadata": {},
   "source": [
    "**Generate the follow matrix \"array_2d\" and replicate the provided outputs.**"
   ]
  },
  {
   "cell_type": "code",
   "execution_count": null,
   "metadata": {},
   "outputs": [],
   "source": [
    "#18a:\n",
    "# To avoid overwriting the output, please code here "
   ]
  },
  {
   "cell_type": "code",
   "execution_count": null,
   "metadata": {
    "scrolled": true
   },
   "outputs": [],
   "source": [
    "array_2d= np.arange(30).reshape(6,5)\n",
    "array_2d"
   ]
  },
  {
   "cell_type": "markdown",
   "metadata": {},
   "source": [
    "**Calculate the sum of all the numbers in array_2d?**"
   ]
  },
  {
   "cell_type": "code",
   "execution_count": null,
   "metadata": {},
   "outputs": [],
   "source": [
    "array_2d.sum()"
   ]
  },
  {
   "cell_type": "code",
   "execution_count": null,
   "metadata": {},
   "outputs": [],
   "source": [
    "array_2d.sum(axis=1)"
   ]
  },
  {
   "cell_type": "markdown",
   "metadata": {},
   "source": [
    "**Calculate sum of all the rows and columns in array_2d.**"
   ]
  },
  {
   "cell_type": "code",
   "execution_count": null,
   "metadata": {},
   "outputs": [],
   "source": [
    "# To avoid overwriting the output, please code here "
   ]
  },
  {
   "cell_type": "code",
   "execution_count": null,
   "metadata": {},
   "outputs": [],
   "source": [
    "print(\"Row sum:\", array_2d.sum(axis=1))\n",
    "print(\"Columns sum:\", array_2d.sum(axis=0))"
   ]
  },
  {
   "cell_type": "markdown",
   "metadata": {},
   "source": [
    "**Calculate the standard deviation of the values in array_2d.**"
   ]
  },
  {
   "cell_type": "code",
   "execution_count": null,
   "metadata": {},
   "outputs": [],
   "source": [
    "# To avoid overwriting the output, please code here "
   ]
  },
  {
   "cell_type": "code",
   "execution_count": null,
   "metadata": {},
   "outputs": [],
   "source": [
    "array_2d.std()"
   ]
  },
  {
   "cell_type": "markdown",
   "metadata": {},
   "source": [
    "**Create a boolean mask and list out the numbers that are not divisible by 3 in array_2d.**"
   ]
  },
  {
   "cell_type": "code",
   "execution_count": null,
   "metadata": {},
   "outputs": [],
   "source": [
    "# To avoid overwriting the output, please code here "
   ]
  },
  {
   "cell_type": "code",
   "execution_count": null,
   "metadata": {},
   "outputs": [],
   "source": [
    "array_2d"
   ]
  },
  {
   "cell_type": "code",
   "execution_count": null,
   "metadata": {},
   "outputs": [],
   "source": [
    "array_2d % 3 == 0"
   ]
  },
  {
   "cell_type": "code",
   "execution_count": null,
   "metadata": {},
   "outputs": [],
   "source": [
    "mask_mod_3 = 0 != array_2d % 3\n",
    "mask_mod_3"
   ]
  },
  {
   "cell_type": "code",
   "execution_count": null,
   "metadata": {},
   "outputs": [],
   "source": [
    "mask_mod_3 = 0 != array_2d % 3  # Creating mask for the said condition\n",
    "array_2d[mask_mod_3]            # pass the boolean mask to array_2d to return the required results"
   ]
  },
  {
   "cell_type": "code",
   "execution_count": null,
   "metadata": {},
   "outputs": [],
   "source": [
    "np.zeros(5)"
   ]
  },
  {
   "cell_type": "code",
   "execution_count": null,
   "metadata": {},
   "outputs": [],
   "source": []
  }
 ],
 "metadata": {
  "kernelspec": {
   "display_name": "Python 3 (ipykernel)",
   "language": "python",
   "name": "python3"
  },
  "language_info": {
   "codemirror_mode": {
    "name": "ipython",
    "version": 3
   },
   "file_extension": ".py",
   "mimetype": "text/x-python",
   "name": "python",
   "nbconvert_exporter": "python",
   "pygments_lexer": "ipython3",
   "version": "3.11.3"
  }
 },
 "nbformat": 4,
 "nbformat_minor": 4
}
